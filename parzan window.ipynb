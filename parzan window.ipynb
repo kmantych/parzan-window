{
 "cells": [
  {
   "cell_type": "code",
   "execution_count": 53,
   "metadata": {},
   "outputs": [],
   "source": [
    "%matplotlib inline\n",
    "import matplotlib.pyplot as plt\n",
    "import pandas as pd\n",
    "import numpy as np\n",
    "from numpy import linalg\n",
    "from sklearn.utils import shuffle\n",
    "from scipy.io import arff\n",
    "from sklearn.feature_selection import SelectKBest\n",
    "from sklearn.feature_selection import chi2\n",
    "#from sklearn.cross_validation import train_test_split"
   ]
  },
  {
   "cell_type": "code",
   "execution_count": 54,
   "metadata": {},
   "outputs": [],
   "source": [
    "def gaussianKernal(X1, X2, h):\n",
    "    row1, col1 = np.shape(X1)\n",
    "    row2, col2 = np.shape(X2)\n",
    "\n",
    "    N = col2\n",
    "    D = row2\n",
    "    K = np.zeros((col1, col2))\n",
    "    \n",
    "    for i in range(0, col1):\n",
    "        for j in range(0, col2):\n",
    "            K[i][j] = (1/N)*(1/ np.power(np.sqrt(2*np.pi)*h, D) ) * np.exp(-0.5*(np.transpose(X1[:,i]-X2[:,j])*(X1[:,i]-X2[:,j]))/np.power(h,2))\n",
    "    return K"
   ]
  },
  {
   "cell_type": "code",
   "execution_count": 55,
   "metadata": {},
   "outputs": [],
   "source": [
    "#load the iris data into a pandas dataframe\n",
    "iris_data = arff.loadarff('iris.arff')\n",
    "iris_df = pd.DataFrame(iris_data[0])\n",
    "del iris_df['class']\n",
    "iris_data_with_class = pd.DataFrame(iris_df)\n",
    "class_list = ([1] * 50) + ([2] * 50) + ([3] * 50)\n",
    "iris_data_with_class.insert(4, \"class\", class_list, True)\n",
    "\n",
    "#feature selection, find the top feature\n",
    "array = iris_data_with_class.values\n",
    "X = array[:, 0:4]\n",
    "Y = array[:,4]\n",
    "\n",
    "# Feature extraction\n",
    "test = SelectKBest(score_func=chi2, k=1)\n",
    "fit = test.fit(X, Y)\n",
    "\n",
    "#reduce X to the selected feature\n",
    "X = test.transform(X)\n",
    "X = np.asmatrix(X)"
   ]
  },
  {
   "cell_type": "code",
   "execution_count": 62,
   "metadata": {},
   "outputs": [],
   "source": [
    "\n",
    "h = 0.1\n",
    "\n",
    "ax = np.arange(start=0, stop=8.01, step=0.05)\n",
    "ax = np.asmatrix(ax)\n",
    "\n",
    "p1 = np.zeros(len(ax))\n",
    "p1 = np.asmatrix(p1)\n",
    "\n",
    "for i in range(0,50):\n",
    "    p1 = np.add(p1, gaussianKernal(np.asmatrix(X[i]), ax, h))\n",
    "    \n",
    "p2 = np.zeros(len(ax))\n",
    "p2 = np.asmatrix(p1)\n",
    "\n",
    "for i in range(50,100):\n",
    "    p2 = np.add(p2, gaussianKernal(np.asmatrix(X[i]), ax, h))\n",
    "    \n",
    "p3 = np.zeros(len(ax))\n",
    "p3 = np.asmatrix(p1)\n",
    "\n",
    "for i in range(100,150):\n",
    "    p3 = np.add(p3, gaussianKernal(np.asmatrix(X[i]), ax, h))"
   ]
  },
  {
   "cell_type": "code",
   "execution_count": 63,
   "metadata": {},
   "outputs": [],
   "source": [
    "p1_df = pd.DataFrame(p1).T\n",
    "p1_df.columns = ['p1vals']\n",
    "\n",
    "p2_df = pd.DataFrame(p2).T\n",
    "p2_df.columns = ['p2vals']\n",
    "\n",
    "p3_df = pd.DataFrame(p3).T\n",
    "p3_df.columns = ['p3vals']\n",
    "\n",
    "ax_df = pd.DataFrame(ax).T\n",
    "ax_df.columns = ['axvals']"
   ]
  },
  {
   "cell_type": "code",
   "execution_count": 64,
   "metadata": {},
   "outputs": [
    {
     "data": {
      "text/plain": [
       "<matplotlib.collections.PathCollection at 0x1db3aa10>"
      ]
     },
     "execution_count": 64,
     "metadata": {},
     "output_type": "execute_result"
    },
    {
     "data": {
      "image/png": "[encoded data removed]",
      "text/plain": [
       "<Figure size 432x288 with 1 Axes>"
      ]
     },
     "metadata": {
      "needs_background": "light"
     },
     "output_type": "display_data"
    }
   ],
   "source": [
    "plt.plot(ax_df['axvals'], p1_df['p1vals'])\n",
    "plt.plot(ax_df['axvals'], p2_df['p2vals'])\n",
    "plt.plot(ax_df['axvals'], p3_df['p3vals'])\n",
    "plt.scatter( pd.DataFrame(X).T, np.zeros(150))"
   ]
  },
  {
   "cell_type": "code",
   "execution_count": null,
   "metadata": {},
   "outputs": [],
   "source": []
  }
 ],
 "metadata": {
  "kernelspec": {
   "display_name": "Python 3",
   "language": "python",
   "name": "python3"
  },
  "language_info": {
   "codemirror_mode": {
    "name": "ipython",
    "version": 3
   },
   "file_extension": ".py",
   "mimetype": "text/x-python",
   "name": "python",
   "nbconvert_exporter": "python",
   "pygments_lexer": "ipython3",
   "version": "3.8.3"
  }
 },
 "nbformat": 4,
 "nbformat_minor": 4
}
